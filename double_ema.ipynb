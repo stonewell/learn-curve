{
 "cells": [
  {
   "cell_type": "code",
   "execution_count": 7,
   "metadata": {
    "scrolled": true
   },
   "outputs": [
    {
     "name": "stdout",
     "output_type": "stream",
     "text": [
      "The zipline extension is already loaded. To reload it, use:\n",
      "  %reload_ext zipline\n"
     ]
    }
   ],
   "source": [
    "%load_ext zipline\n"
   ]
  },
  {
   "cell_type": "code",
   "execution_count": 8,
   "metadata": {},
   "outputs": [],
   "source": [
    "import sys,os,os.path\n",
    "sys.path.append('src')"
   ]
  },
  {
   "cell_type": "code",
   "execution_count": 9,
   "metadata": {},
   "outputs": [
    {
     "ename": "InvalidCalendarName",
     "evalue": "The requested TradingCalendar, CN_A, does not exist.",
     "output_type": "error",
     "traceback": [
      "\u001b[0;31m---------------------------------------------------------------------------\u001b[0m",
      "\u001b[0;31mKeyError\u001b[0m                                  Traceback (most recent call last)",
      "\u001b[0;32m~/Work/GitHub/learn-curve/venv/lib/python3.6/site-packages/trading_calendars/calendar_utils.py\u001b[0m in \u001b[0;36mget_calendar\u001b[0;34m(self, name)\u001b[0m\n\u001b[1;32m    140\u001b[0m         \u001b[0;32mtry\u001b[0m\u001b[0;34m:\u001b[0m\u001b[0;34m\u001b[0m\u001b[0;34m\u001b[0m\u001b[0m\n\u001b[0;32m--> 141\u001b[0;31m             \u001b[0mfactory\u001b[0m \u001b[0;34m=\u001b[0m \u001b[0mself\u001b[0m\u001b[0;34m.\u001b[0m\u001b[0m_calendar_factories\u001b[0m\u001b[0;34m[\u001b[0m\u001b[0mcanonical_name\u001b[0m\u001b[0;34m]\u001b[0m\u001b[0;34m\u001b[0m\u001b[0;34m\u001b[0m\u001b[0m\n\u001b[0m\u001b[1;32m    142\u001b[0m         \u001b[0;32mexcept\u001b[0m \u001b[0mKeyError\u001b[0m\u001b[0;34m:\u001b[0m\u001b[0;34m\u001b[0m\u001b[0;34m\u001b[0m\u001b[0m\n",
      "\u001b[0;31mKeyError\u001b[0m: 'CN_A'",
      "\nDuring handling of the above exception, another exception occurred:\n",
      "\u001b[0;31mInvalidCalendarName\u001b[0m                       Traceback (most recent call last)",
      "\u001b[0;32m<ipython-input-9-694e645160bd>\u001b[0m in \u001b[0;36m<module>\u001b[0;34m\u001b[0m\n\u001b[0;32m----> 1\u001b[0;31m \u001b[0mget_ipython\u001b[0m\u001b[0;34m(\u001b[0m\u001b[0;34m)\u001b[0m\u001b[0;34m.\u001b[0m\u001b[0mrun_cell_magic\u001b[0m\u001b[0;34m(\u001b[0m\u001b[0;34m'zipline'\u001b[0m\u001b[0;34m,\u001b[0m \u001b[0;34m'-e extension  -b cn_a_tushare_bundle -s 2016-03-07 -e 2018-12-28 --trading-calendar CN_A --capital-base 10000.00'\u001b[0m\u001b[0;34m,\u001b[0m \u001b[0;34m'\\nfrom zipline.api import order, record, symbol\\nfrom zipline.finance import commission, slippage\\n# Import exponential moving average from talib wrapper\\nfrom talib import EMA\\nimport extension\\n\\n\\ndef initialize(context):\\n    context.asset = symbol(\\'600019.SH\\')\\n\\n    # To keep track of whether we invested in the stock or not\\n    context.invested = False\\n\\n    # Explicitly set the commission/slippage to the \"old\" value until we can\\n    # rebuild example data.\\n    # github.com/quantopian/zipline/blob/master/tests/resources/\\n    # rebuild_example_data#L105\\n    context.set_commission(commission.PerShare(cost=.0075, min_trade_cost=1.0))\\n    context.set_slippage(slippage.VolumeShareSlippage())\\n\\n\\ndef handle_data(context, data):\\n    trailing_window = data.history(context.asset, \\'price\\', 40, \\'1d\\')\\n    if trailing_window.isnull().values.any():\\n        return\\n    short_ema = EMA(trailing_window.values, timeperiod=20)\\n    long_ema = EMA(trailing_window.values, timeperiod=40)\\n\\n    buy = False\\n    sell = False\\n\\n    if (short_ema[-1] > long_ema[-1]) and not context.invested:\\n        order(context.asset, 100)\\n        context.invested = True\\n        buy = True\\n    elif (short_ema[-1] < long_ema[-1]) and context.invested:\\n        order(context.asset, -100)\\n        context.invested = False\\n        sell = True\\n\\n    record(SH600019=data.current(context.asset, \"price\"),\\n           short_ema=short_ema[-1],\\n           long_ema=long_ema[-1],\\n           buy=buy,\\n           sell=sell)\\n\\n\\n# Note: this function can be removed if running\\n# this algorithm on quantopian.com\\ndef analyze(context=None, results=None):\\n    import matplotlib\\n    matplotlib.use(\\'TkAgg\\')\\n    import matplotlib.pyplot as plt\\n    import logbook\\n    logbook.StderrHandler().push_application()\\n    log = logbook.Logger(\\'Algorithm\\')\\n\\n    fig = plt.figure()\\n    ax1 = fig.add_subplot(211)\\n    results.portfolio_value.plot(ax=ax1)\\n    ax1.set_ylabel(\\'Portfolio value (USD)\\')\\n\\n    ax2 = fig.add_subplot(212)\\n    ax2.set_ylabel(\\'Price (USD)\\')\\n\\n    # If data has been record()ed, then plot it.\\n    # Otherwise, log the fact that no data has been recorded.\\n    if \\'SH600019\\' in results and \\'short_ema\\' in results and \\'long_ema\\' in results:\\n        results[[\\'SH600019\\', \\'short_ema\\', \\'long_ema\\']].plot(ax=ax2)\\n\\n        ax2.plot(\\n            results.index[results.buy],\\n            results.loc[results.buy, \\'long_ema\\'],\\n            \\'^\\',\\n            markersize=10,\\n            color=\\'m\\',\\n        )\\n        ax2.plot(\\n            results.index[results.sell],\\n            results.loc[results.sell, \\'short_ema\\'],\\n            \\'v\\',\\n            markersize=10,\\n            color=\\'k\\',\\n        )\\n        plt.legend(loc=0)\\n        plt.gcf().set_size_inches(18, 8)\\n    else:\\n        msg = \\'600019.SH, short_ema and long_ema data not captured using record().\\'\\n        ax2.annotate(msg, xy=(0.1, 0.5))\\n        log.info(msg)\\n\\n    plt.show()\\n'\u001b[0m\u001b[0;34m)\u001b[0m\u001b[0;34m\u001b[0m\u001b[0;34m\u001b[0m\u001b[0m\n\u001b[0m",
      "\u001b[0;32m~/Work/GitHub/learn-curve/venv/lib/python3.6/site-packages/IPython/core/interactiveshell.py\u001b[0m in \u001b[0;36mrun_cell_magic\u001b[0;34m(self, magic_name, line, cell)\u001b[0m\n\u001b[1;32m   2345\u001b[0m                 \u001b[0mmagic_arg_s\u001b[0m \u001b[0;34m=\u001b[0m \u001b[0mself\u001b[0m\u001b[0;34m.\u001b[0m\u001b[0mvar_expand\u001b[0m\u001b[0;34m(\u001b[0m\u001b[0mline\u001b[0m\u001b[0;34m,\u001b[0m \u001b[0mstack_depth\u001b[0m\u001b[0;34m)\u001b[0m\u001b[0;34m\u001b[0m\u001b[0;34m\u001b[0m\u001b[0m\n\u001b[1;32m   2346\u001b[0m             \u001b[0;32mwith\u001b[0m \u001b[0mself\u001b[0m\u001b[0;34m.\u001b[0m\u001b[0mbuiltin_trap\u001b[0m\u001b[0;34m:\u001b[0m\u001b[0;34m\u001b[0m\u001b[0;34m\u001b[0m\u001b[0m\n\u001b[0;32m-> 2347\u001b[0;31m                 \u001b[0mresult\u001b[0m \u001b[0;34m=\u001b[0m \u001b[0mfn\u001b[0m\u001b[0;34m(\u001b[0m\u001b[0mmagic_arg_s\u001b[0m\u001b[0;34m,\u001b[0m \u001b[0mcell\u001b[0m\u001b[0;34m)\u001b[0m\u001b[0;34m\u001b[0m\u001b[0;34m\u001b[0m\u001b[0m\n\u001b[0m\u001b[1;32m   2348\u001b[0m             \u001b[0;32mreturn\u001b[0m \u001b[0mresult\u001b[0m\u001b[0;34m\u001b[0m\u001b[0;34m\u001b[0m\u001b[0m\n\u001b[1;32m   2349\u001b[0m \u001b[0;34m\u001b[0m\u001b[0m\n",
      "\u001b[0;32m~/Work/GitHub/learn-curve/venv/lib/python3.6/site-packages/zipline/__main__.py\u001b[0m in \u001b[0;36mzipline_magic\u001b[0;34m(line, cell)\u001b[0m\n\u001b[1;32m    309\u001b[0m             \u001b[0;34m'%s%%zipline'\u001b[0m \u001b[0;34m%\u001b[0m \u001b[0;34m(\u001b[0m\u001b[0;34m(\u001b[0m\u001b[0mcell\u001b[0m \u001b[0;32mor\u001b[0m \u001b[0;34m''\u001b[0m\u001b[0;34m)\u001b[0m \u001b[0;32mand\u001b[0m \u001b[0;34m'%'\u001b[0m\u001b[0;34m)\u001b[0m\u001b[0;34m,\u001b[0m\u001b[0;34m\u001b[0m\u001b[0;34m\u001b[0m\u001b[0m\n\u001b[1;32m    310\u001b[0m             \u001b[0;31m# don't use system exit and propogate errors to the caller\u001b[0m\u001b[0;34m\u001b[0m\u001b[0;34m\u001b[0m\u001b[0;34m\u001b[0m\u001b[0m\n\u001b[0;32m--> 311\u001b[0;31m             \u001b[0mstandalone_mode\u001b[0m\u001b[0;34m=\u001b[0m\u001b[0;32mFalse\u001b[0m\u001b[0;34m,\u001b[0m\u001b[0;34m\u001b[0m\u001b[0;34m\u001b[0m\u001b[0m\n\u001b[0m\u001b[1;32m    312\u001b[0m         )\n\u001b[1;32m    313\u001b[0m     \u001b[0;32mexcept\u001b[0m \u001b[0mSystemExit\u001b[0m \u001b[0;32mas\u001b[0m \u001b[0me\u001b[0m\u001b[0;34m:\u001b[0m\u001b[0;34m\u001b[0m\u001b[0;34m\u001b[0m\u001b[0m\n",
      "\u001b[0;32m~/Work/GitHub/learn-curve/venv/lib/python3.6/site-packages/click/core.py\u001b[0m in \u001b[0;36mmain\u001b[0;34m(self, args, prog_name, complete_var, standalone_mode, **extra)\u001b[0m\n\u001b[1;32m    715\u001b[0m             \u001b[0;32mtry\u001b[0m\u001b[0;34m:\u001b[0m\u001b[0;34m\u001b[0m\u001b[0;34m\u001b[0m\u001b[0m\n\u001b[1;32m    716\u001b[0m                 \u001b[0;32mwith\u001b[0m \u001b[0mself\u001b[0m\u001b[0;34m.\u001b[0m\u001b[0mmake_context\u001b[0m\u001b[0;34m(\u001b[0m\u001b[0mprog_name\u001b[0m\u001b[0;34m,\u001b[0m \u001b[0margs\u001b[0m\u001b[0;34m,\u001b[0m \u001b[0;34m**\u001b[0m\u001b[0mextra\u001b[0m\u001b[0;34m)\u001b[0m \u001b[0;32mas\u001b[0m \u001b[0mctx\u001b[0m\u001b[0;34m:\u001b[0m\u001b[0;34m\u001b[0m\u001b[0;34m\u001b[0m\u001b[0m\n\u001b[0;32m--> 717\u001b[0;31m                     \u001b[0mrv\u001b[0m \u001b[0;34m=\u001b[0m \u001b[0mself\u001b[0m\u001b[0;34m.\u001b[0m\u001b[0minvoke\u001b[0m\u001b[0;34m(\u001b[0m\u001b[0mctx\u001b[0m\u001b[0;34m)\u001b[0m\u001b[0;34m\u001b[0m\u001b[0;34m\u001b[0m\u001b[0m\n\u001b[0m\u001b[1;32m    718\u001b[0m                     \u001b[0;32mif\u001b[0m \u001b[0;32mnot\u001b[0m \u001b[0mstandalone_mode\u001b[0m\u001b[0;34m:\u001b[0m\u001b[0;34m\u001b[0m\u001b[0;34m\u001b[0m\u001b[0m\n\u001b[1;32m    719\u001b[0m                         \u001b[0;32mreturn\u001b[0m \u001b[0mrv\u001b[0m\u001b[0;34m\u001b[0m\u001b[0;34m\u001b[0m\u001b[0m\n",
      "\u001b[0;32m~/Work/GitHub/learn-curve/venv/lib/python3.6/site-packages/click/core.py\u001b[0m in \u001b[0;36minvoke\u001b[0;34m(self, ctx)\u001b[0m\n\u001b[1;32m    954\u001b[0m         \u001b[0m_maybe_show_deprecated_notice\u001b[0m\u001b[0;34m(\u001b[0m\u001b[0mself\u001b[0m\u001b[0;34m)\u001b[0m\u001b[0;34m\u001b[0m\u001b[0;34m\u001b[0m\u001b[0m\n\u001b[1;32m    955\u001b[0m         \u001b[0;32mif\u001b[0m \u001b[0mself\u001b[0m\u001b[0;34m.\u001b[0m\u001b[0mcallback\u001b[0m \u001b[0;32mis\u001b[0m \u001b[0;32mnot\u001b[0m \u001b[0;32mNone\u001b[0m\u001b[0;34m:\u001b[0m\u001b[0;34m\u001b[0m\u001b[0;34m\u001b[0m\u001b[0m\n\u001b[0;32m--> 956\u001b[0;31m             \u001b[0;32mreturn\u001b[0m \u001b[0mctx\u001b[0m\u001b[0;34m.\u001b[0m\u001b[0minvoke\u001b[0m\u001b[0;34m(\u001b[0m\u001b[0mself\u001b[0m\u001b[0;34m.\u001b[0m\u001b[0mcallback\u001b[0m\u001b[0;34m,\u001b[0m \u001b[0;34m**\u001b[0m\u001b[0mctx\u001b[0m\u001b[0;34m.\u001b[0m\u001b[0mparams\u001b[0m\u001b[0;34m)\u001b[0m\u001b[0;34m\u001b[0m\u001b[0;34m\u001b[0m\u001b[0m\n\u001b[0m\u001b[1;32m    957\u001b[0m \u001b[0;34m\u001b[0m\u001b[0m\n\u001b[1;32m    958\u001b[0m \u001b[0;34m\u001b[0m\u001b[0m\n",
      "\u001b[0;32m~/Work/GitHub/learn-curve/venv/lib/python3.6/site-packages/click/core.py\u001b[0m in \u001b[0;36minvoke\u001b[0;34m(*args, **kwargs)\u001b[0m\n\u001b[1;32m    553\u001b[0m         \u001b[0;32mwith\u001b[0m \u001b[0maugment_usage_errors\u001b[0m\u001b[0;34m(\u001b[0m\u001b[0mself\u001b[0m\u001b[0;34m)\u001b[0m\u001b[0;34m:\u001b[0m\u001b[0;34m\u001b[0m\u001b[0;34m\u001b[0m\u001b[0m\n\u001b[1;32m    554\u001b[0m             \u001b[0;32mwith\u001b[0m \u001b[0mctx\u001b[0m\u001b[0;34m:\u001b[0m\u001b[0;34m\u001b[0m\u001b[0;34m\u001b[0m\u001b[0m\n\u001b[0;32m--> 555\u001b[0;31m                 \u001b[0;32mreturn\u001b[0m \u001b[0mcallback\u001b[0m\u001b[0;34m(\u001b[0m\u001b[0;34m*\u001b[0m\u001b[0margs\u001b[0m\u001b[0;34m,\u001b[0m \u001b[0;34m**\u001b[0m\u001b[0mkwargs\u001b[0m\u001b[0;34m)\u001b[0m\u001b[0;34m\u001b[0m\u001b[0;34m\u001b[0m\u001b[0m\n\u001b[0m\u001b[1;32m    556\u001b[0m \u001b[0;34m\u001b[0m\u001b[0m\n\u001b[1;32m    557\u001b[0m     \u001b[0;32mdef\u001b[0m \u001b[0mforward\u001b[0m\u001b[0;34m(\u001b[0m\u001b[0;34m*\u001b[0m\u001b[0margs\u001b[0m\u001b[0;34m,\u001b[0m \u001b[0;34m**\u001b[0m\u001b[0mkwargs\u001b[0m\u001b[0;34m)\u001b[0m\u001b[0;34m:\u001b[0m\u001b[0;34m\u001b[0m\u001b[0;34m\u001b[0m\u001b[0m\n",
      "\u001b[0;32m~/Work/GitHub/learn-curve/venv/lib/python3.6/site-packages/click/decorators.py\u001b[0m in \u001b[0;36mnew_func\u001b[0;34m(*args, **kwargs)\u001b[0m\n\u001b[1;32m     15\u001b[0m     \"\"\"\n\u001b[1;32m     16\u001b[0m     \u001b[0;32mdef\u001b[0m \u001b[0mnew_func\u001b[0m\u001b[0;34m(\u001b[0m\u001b[0;34m*\u001b[0m\u001b[0margs\u001b[0m\u001b[0;34m,\u001b[0m \u001b[0;34m**\u001b[0m\u001b[0mkwargs\u001b[0m\u001b[0;34m)\u001b[0m\u001b[0;34m:\u001b[0m\u001b[0;34m\u001b[0m\u001b[0;34m\u001b[0m\u001b[0m\n\u001b[0;32m---> 17\u001b[0;31m         \u001b[0;32mreturn\u001b[0m \u001b[0mf\u001b[0m\u001b[0;34m(\u001b[0m\u001b[0mget_current_context\u001b[0m\u001b[0;34m(\u001b[0m\u001b[0;34m)\u001b[0m\u001b[0;34m,\u001b[0m \u001b[0;34m*\u001b[0m\u001b[0margs\u001b[0m\u001b[0;34m,\u001b[0m \u001b[0;34m**\u001b[0m\u001b[0mkwargs\u001b[0m\u001b[0;34m)\u001b[0m\u001b[0;34m\u001b[0m\u001b[0;34m\u001b[0m\u001b[0m\n\u001b[0m\u001b[1;32m     18\u001b[0m     \u001b[0;32mreturn\u001b[0m \u001b[0mupdate_wrapper\u001b[0m\u001b[0;34m(\u001b[0m\u001b[0mnew_func\u001b[0m\u001b[0;34m,\u001b[0m \u001b[0mf\u001b[0m\u001b[0;34m)\u001b[0m\u001b[0;34m\u001b[0m\u001b[0;34m\u001b[0m\u001b[0m\n\u001b[1;32m     19\u001b[0m \u001b[0;34m\u001b[0m\u001b[0m\n",
      "\u001b[0;32m~/Work/GitHub/learn-curve/venv/lib/python3.6/site-packages/zipline/__main__.py\u001b[0m in \u001b[0;36mrun\u001b[0;34m(ctx, algofile, algotext, define, data_frequency, capital_base, bundle, bundle_timestamp, start, end, output, trading_calendar, print_algo, metrics_set, local_namespace, blotter)\u001b[0m\n\u001b[1;32m    251\u001b[0m         )\n\u001b[1;32m    252\u001b[0m \u001b[0;34m\u001b[0m\u001b[0m\n\u001b[0;32m--> 253\u001b[0;31m     \u001b[0mtrading_calendar\u001b[0m \u001b[0;34m=\u001b[0m \u001b[0mget_calendar\u001b[0m\u001b[0;34m(\u001b[0m\u001b[0mtrading_calendar\u001b[0m\u001b[0;34m)\u001b[0m\u001b[0;34m\u001b[0m\u001b[0;34m\u001b[0m\u001b[0m\n\u001b[0m\u001b[1;32m    254\u001b[0m \u001b[0;34m\u001b[0m\u001b[0m\n\u001b[1;32m    255\u001b[0m     perf = _run(\n",
      "\u001b[0;32m~/Work/GitHub/learn-curve/venv/lib/python3.6/site-packages/trading_calendars/calendar_utils.py\u001b[0m in \u001b[0;36mget_calendar\u001b[0;34m(self, name)\u001b[0m\n\u001b[1;32m    142\u001b[0m         \u001b[0;32mexcept\u001b[0m \u001b[0mKeyError\u001b[0m\u001b[0;34m:\u001b[0m\u001b[0;34m\u001b[0m\u001b[0;34m\u001b[0m\u001b[0m\n\u001b[1;32m    143\u001b[0m             \u001b[0;31m# We don't have a factory registered for this name.  Barf.\u001b[0m\u001b[0;34m\u001b[0m\u001b[0;34m\u001b[0m\u001b[0;34m\u001b[0m\u001b[0m\n\u001b[0;32m--> 144\u001b[0;31m             \u001b[0;32mraise\u001b[0m \u001b[0mInvalidCalendarName\u001b[0m\u001b[0;34m(\u001b[0m\u001b[0mcalendar_name\u001b[0m\u001b[0;34m=\u001b[0m\u001b[0mname\u001b[0m\u001b[0;34m)\u001b[0m\u001b[0;34m\u001b[0m\u001b[0;34m\u001b[0m\u001b[0m\n\u001b[0m\u001b[1;32m    145\u001b[0m \u001b[0;34m\u001b[0m\u001b[0m\n\u001b[1;32m    146\u001b[0m         \u001b[0;31m# Cache the calendar for future use.\u001b[0m\u001b[0;34m\u001b[0m\u001b[0;34m\u001b[0m\u001b[0;34m\u001b[0m\u001b[0m\n",
      "\u001b[0;31mInvalidCalendarName\u001b[0m: The requested TradingCalendar, CN_A, does not exist."
     ]
    }
   ],
   "source": [
    "%%zipline -e extension  -b cn_a_tushare_bundle -s 2016-03-07 -e 2018-12-28 --trading-calendar CN_A --capital-base 10000.00\n",
    "\n",
    "from zipline.api import order, record, symbol\n",
    "from zipline.finance import commission, slippage\n",
    "# Import exponential moving average from talib wrapper\n",
    "from talib import EMA\n",
    "import extension\n",
    "\n",
    "\n",
    "def initialize(context):\n",
    "    context.asset = symbol('600019.SH')\n",
    "\n",
    "    # To keep track of whether we invested in the stock or not\n",
    "    context.invested = False\n",
    "\n",
    "    # Explicitly set the commission/slippage to the \"old\" value until we can\n",
    "    # rebuild example data.\n",
    "    # github.com/quantopian/zipline/blob/master/tests/resources/\n",
    "    # rebuild_example_data#L105\n",
    "    context.set_commission(commission.PerShare(cost=.0075, min_trade_cost=1.0))\n",
    "    context.set_slippage(slippage.VolumeShareSlippage())\n",
    "\n",
    "\n",
    "def handle_data(context, data):\n",
    "    trailing_window = data.history(context.asset, 'price', 40, '1d')\n",
    "    if trailing_window.isnull().values.any():\n",
    "        return\n",
    "    short_ema = EMA(trailing_window.values, timeperiod=20)\n",
    "    long_ema = EMA(trailing_window.values, timeperiod=40)\n",
    "\n",
    "    buy = False\n",
    "    sell = False\n",
    "\n",
    "    if (short_ema[-1] > long_ema[-1]) and not context.invested:\n",
    "        order(context.asset, 100)\n",
    "        context.invested = True\n",
    "        buy = True\n",
    "    elif (short_ema[-1] < long_ema[-1]) and context.invested:\n",
    "        order(context.asset, -100)\n",
    "        context.invested = False\n",
    "        sell = True\n",
    "\n",
    "    record(SH600019=data.current(context.asset, \"price\"),\n",
    "           short_ema=short_ema[-1],\n",
    "           long_ema=long_ema[-1],\n",
    "           buy=buy,\n",
    "           sell=sell)\n",
    "\n",
    "\n",
    "# Note: this function can be removed if running\n",
    "# this algorithm on quantopian.com\n",
    "def analyze(context=None, results=None):\n",
    "    import matplotlib\n",
    "    matplotlib.use('TkAgg')\n",
    "    import matplotlib.pyplot as plt\n",
    "    import logbook\n",
    "    logbook.StderrHandler().push_application()\n",
    "    log = logbook.Logger('Algorithm')\n",
    "\n",
    "    fig = plt.figure()\n",
    "    ax1 = fig.add_subplot(211)\n",
    "    results.portfolio_value.plot(ax=ax1)\n",
    "    ax1.set_ylabel('Portfolio value (USD)')\n",
    "\n",
    "    ax2 = fig.add_subplot(212)\n",
    "    ax2.set_ylabel('Price (USD)')\n",
    "\n",
    "    # If data has been record()ed, then plot it.\n",
    "    # Otherwise, log the fact that no data has been recorded.\n",
    "    if 'SH600019' in results and 'short_ema' in results and 'long_ema' in results:\n",
    "        results[['SH600019', 'short_ema', 'long_ema']].plot(ax=ax2)\n",
    "\n",
    "        ax2.plot(\n",
    "            results.index[results.buy],\n",
    "            results.loc[results.buy, 'long_ema'],\n",
    "            '^',\n",
    "            markersize=10,\n",
    "            color='m',\n",
    "        )\n",
    "        ax2.plot(\n",
    "            results.index[results.sell],\n",
    "            results.loc[results.sell, 'short_ema'],\n",
    "            'v',\n",
    "            markersize=10,\n",
    "            color='k',\n",
    "        )\n",
    "        plt.legend(loc=0)\n",
    "        plt.gcf().set_size_inches(18, 8)\n",
    "    else:\n",
    "        msg = '600019.SH, short_ema and long_ema data not captured using record().'\n",
    "        ax2.annotate(msg, xy=(0.1, 0.5))\n",
    "        log.info(msg)\n",
    "\n",
    "    plt.show()\n"
   ]
  },
  {
   "cell_type": "code",
   "execution_count": null,
   "metadata": {},
   "outputs": [],
   "source": []
  }
 ],
 "metadata": {
  "kernelspec": {
   "display_name": "Python 3",
   "language": "python",
   "name": "python3"
  },
  "language_info": {
   "codemirror_mode": {
    "name": "ipython",
    "version": 3
   },
   "file_extension": ".py",
   "mimetype": "text/x-python",
   "name": "python",
   "nbconvert_exporter": "python",
   "pygments_lexer": "ipython3",
   "version": "3.6.8"
  }
 },
 "nbformat": 4,
 "nbformat_minor": 2
}
